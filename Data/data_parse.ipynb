{
 "cells": [
  {
   "cell_type": "markdown",
   "metadata": {},
   "source": [
    "# Data Parse"
   ]
  },
  {
   "cell_type": "code",
   "execution_count": 25,
   "metadata": {},
   "outputs": [
    {
     "name": "stdout",
     "output_type": "stream",
     "text": [
      "Error executing script: python: can't open file '//https://github.com/calvinkochunisg/HSG-CS-Project/blob/dev/api/spoonacular.py': [Errno 2] No such file or directory\n",
      "\n"
     ]
    }
   ],
   "source": [
    "import subprocess\n",
    "import requests\n",
    "import pandas as pd\n",
    "import json\n",
    "\n",
    "def fetch_nutrients_dataframe():\n",
    "    command = ['python', 'https://github.com/calvinkochunisg/HSG-CS-Project/blob/dev/api/spoonacular.py']\n",
    "\n",
    "    # Run the command and capture the output\n",
    "    result = subprocess.run(command, stdout=subprocess.PIPE, stderr=subprocess.PIPE, text=True)\n",
    "\n",
    "    # Check if the script executed successfully\n",
    "    if result.returncode == 0:\n",
    "        # The script executed successfully, process the stdout\n",
    "        url_output = result.stdout.strip()\n",
    "    else:\n",
    "        # There was an error executing the script, process the stderr\n",
    "        print(f\"Error executing script: {result.stderr}\")\n",
    "        return None\n",
    "\n",
    "    if url_output:\n",
    "        url = url_output\n",
    "        print(f\"URL: {url}\")\n",
    "    else:\n",
    "        print(\"No URL captured from the script output.\")\n",
    "        return None\n",
    "\n",
    "    # Make a GET request to the URL\n",
    "    response = requests.get(url)\n",
    "\n",
    "    if response.status_code == 200:\n",
    "        data = response.json()\n",
    "    else:\n",
    "        print(f\"Failed to fetch data, status code: {response.status_code}\")\n",
    "        return None\n",
    "\n",
    "    # Initialize a list to hold structured nutrient data\n",
    "    structured_nutrients = []\n",
    "\n",
    "    # Iterate over each day in the data\n",
    "    for day, content in data['week'].items():\n",
    "        # Extract nutrients data and include the day of the week\n",
    "        nutrients_data = {\n",
    "            'Day': day.capitalize(),\n",
    "            'Calories': content['nutrients']['calories'],\n",
    "            'Protein': content['nutrients']['protein'],\n",
    "            'Fat': content['nutrients']['fat'],\n",
    "            'Carbohydrates': content['nutrients']['carbohydrates']\n",
    "        }\n",
    "        # Append the nutrients data to the list\n",
    "        structured_nutrients.append(nutrients_data)\n",
    "\n",
    "    # Convert the list of nutrients data into a DataFrame\n",
    "    df_nutrients = pd.DataFrame(structured_nutrients)\n",
    "    return df_nutrients\n",
    "\n",
    "# Call the function and get the nutrients DataFrame\n",
    "df_nutrients = fetch_nutrients_dataframe()\n",
    "\n",
    "if df_nutrients is not None:\n",
    "    print(df_nutrients)"
   ]
  },
  {
   "cell_type": "code",
   "execution_count": 26,
   "metadata": {},
   "outputs": [
    {
     "name": "stdout",
     "output_type": "stream",
     "text": [
      "Error executing script: python: can't open file '//https://github.com/calvinkochunisg/HSG-CS-Project/blob/dev/api/spoonacular.py': [Errno 2] No such file or directory\n",
      "\n"
     ]
    }
   ],
   "source": [
    "import subprocess\n",
    "\n",
    "# Define the command to run your script using the absolute path\n",
    "command = ['python', 'https://github.com/calvinkochunisg/HSG-CS-Project/blob/dev/api/spoonacular.py']\n",
    "\n",
    "# Run the command and capture the output\n",
    "result = subprocess.run(command, stdout=subprocess.PIPE, stderr=subprocess.PIPE, text=True)\n",
    "\n",
    "# Check if the script executed successfully\n",
    "if result.returncode == 0:\n",
    "    # The script executed successfully, process the stdout\n",
    "    url_output = result.stdout.strip()\n",
    "    if url_output:\n",
    "        print(f\"URL: {url_output}\")  # Assuming the script outputs only the URL\n",
    "    else:\n",
    "        print(\"No URL captured from the script output.\")\n",
    "else:\n",
    "    # There was an error executing the script, process the stderr\n",
    "    print(f\"Error executing script: {result.stderr}\")\n"
   ]
  },
  {
   "cell_type": "code",
   "execution_count": 28,
   "metadata": {},
   "outputs": [
    {
     "ename": "OSError",
     "evalue": "[Errno 30] Read-only file system: 'spoonacular.py'",
     "output_type": "error",
     "traceback": [
      "\u001b[0;31m---------------------------------------------------------------------------\u001b[0m",
      "\u001b[0;31mOSError\u001b[0m                                   Traceback (most recent call last)",
      "\u001b[1;32m/calvinkochunisg/HSG-CS-Project/Data/data_parse.ipynb Cell 4\u001b[0m line \u001b[0;36m9\n\u001b[1;32m      <a href='vscode-notebook-cell://github%2B7b2276223a312c22726566223a7b2274797065223a342c226964223a22646576227d7d/calvinkochunisg/HSG-CS-Project/Data/data_parse.ipynb#X25sdnNjb2RlLXZmcw%3D%3D?line=6'>7</a>\u001b[0m response \u001b[39m=\u001b[39m requests\u001b[39m.\u001b[39mget(url)\n\u001b[1;32m      <a href='vscode-notebook-cell://github%2B7b2276223a312c22726566223a7b2274797065223a342c226964223a22646576227d7d/calvinkochunisg/HSG-CS-Project/Data/data_parse.ipynb#X25sdnNjb2RlLXZmcw%3D%3D?line=7'>8</a>\u001b[0m \u001b[39mif\u001b[39;00m response\u001b[39m.\u001b[39mstatus_code \u001b[39m==\u001b[39m \u001b[39m200\u001b[39m:\n\u001b[0;32m----> <a href='vscode-notebook-cell://github%2B7b2276223a312c22726566223a7b2274797065223a342c226964223a22646576227d7d/calvinkochunisg/HSG-CS-Project/Data/data_parse.ipynb#X25sdnNjb2RlLXZmcw%3D%3D?line=8'>9</a>\u001b[0m     \u001b[39mwith\u001b[39;00m \u001b[39mopen\u001b[39;49m(\u001b[39m'\u001b[39;49m\u001b[39mspoonacular.py\u001b[39;49m\u001b[39m'\u001b[39;49m, \u001b[39m'\u001b[39;49m\u001b[39mw\u001b[39;49m\u001b[39m'\u001b[39;49m) \u001b[39mas\u001b[39;00m file:\n\u001b[1;32m     <a href='vscode-notebook-cell://github%2B7b2276223a312c22726566223a7b2274797065223a342c226964223a22646576227d7d/calvinkochunisg/HSG-CS-Project/Data/data_parse.ipynb#X25sdnNjb2RlLXZmcw%3D%3D?line=9'>10</a>\u001b[0m         file\u001b[39m.\u001b[39mwrite(response\u001b[39m.\u001b[39mtext)\n\u001b[1;32m     <a href='vscode-notebook-cell://github%2B7b2276223a312c22726566223a7b2274797065223a342c226964223a22646576227d7d/calvinkochunisg/HSG-CS-Project/Data/data_parse.ipynb#X25sdnNjb2RlLXZmcw%3D%3D?line=10'>11</a>\u001b[0m \u001b[39melse\u001b[39;00m:\n",
      "File \u001b[0;32m/Library/Frameworks/Python.framework/Versions/3.12/lib/python3.12/site-packages/IPython/core/interactiveshell.py:308\u001b[0m, in \u001b[0;36m_modified_open\u001b[0;34m(file, *args, **kwargs)\u001b[0m\n\u001b[1;32m    301\u001b[0m \u001b[39mif\u001b[39;00m file \u001b[39min\u001b[39;00m {\u001b[39m0\u001b[39m, \u001b[39m1\u001b[39m, \u001b[39m2\u001b[39m}:\n\u001b[1;32m    302\u001b[0m     \u001b[39mraise\u001b[39;00m \u001b[39mValueError\u001b[39;00m(\n\u001b[1;32m    303\u001b[0m         \u001b[39mf\u001b[39m\u001b[39m\"\u001b[39m\u001b[39mIPython won\u001b[39m\u001b[39m'\u001b[39m\u001b[39mt let you open fd=\u001b[39m\u001b[39m{\u001b[39;00mfile\u001b[39m}\u001b[39;00m\u001b[39m by default \u001b[39m\u001b[39m\"\u001b[39m\n\u001b[1;32m    304\u001b[0m         \u001b[39m\"\u001b[39m\u001b[39mas it is likely to crash IPython. If you know what you are doing, \u001b[39m\u001b[39m\"\u001b[39m\n\u001b[1;32m    305\u001b[0m         \u001b[39m\"\u001b[39m\u001b[39myou can use builtins\u001b[39m\u001b[39m'\u001b[39m\u001b[39m open.\u001b[39m\u001b[39m\"\u001b[39m\n\u001b[1;32m    306\u001b[0m     )\n\u001b[0;32m--> 308\u001b[0m \u001b[39mreturn\u001b[39;00m io_open(file, \u001b[39m*\u001b[39;49margs, \u001b[39m*\u001b[39;49m\u001b[39m*\u001b[39;49mkwargs)\n",
      "\u001b[0;31mOSError\u001b[0m: [Errno 30] Read-only file system: 'spoonacular.py'"
     ]
    }
   ],
   "source": [
    "import requests\n",
    "\n",
    "# URL to the raw version of the script\n",
    "url = 'https://github.com/calvinkochunisg/HSG-CS-Project/blob/dev/api/spoonacular.py'\n",
    "\n",
    "# Fetch the script\n",
    "response = requests.get(url)\n",
    "if response.status_code == 200:\n",
    "    with open('spoonacular.py', 'w') as file:\n",
    "        file.write(response.text)\n",
    "else:\n",
    "    print(\"Failed to download the file\")\n",
    "\n",
    "# Now you have \"spoonacular.py\" locally, and you can execute it as needed\n"
   ]
  },
  {
   "cell_type": "markdown",
   "metadata": {},
   "source": [
    "# Modelling"
   ]
  },
  {
   "cell_type": "markdown",
   "metadata": {},
   "source": [
    "### Preparation"
   ]
  },
  {
   "cell_type": "code",
   "execution_count": 15,
   "metadata": {},
   "outputs": [
    {
     "name": "stdout",
     "output_type": "stream",
     "text": [
      "        Date  Stone  Pounds  Ounces  weight_oz  calories cals_per_oz  \\\n",
      "0  7/30/2018   12.0     2.0     6.0     2726.0    1950.0        0.72   \n",
      "1  7/31/2018   12.0     0.0     8.0     2696.0    2600.0        0.96   \n",
      "2   8/1/2018   12.0     1.0     0.0     2704.0    2500.0        0.92   \n",
      "3   8/2/2018   12.0     1.0     0.0     2704.0    1850.0        0.68   \n",
      "4   8/3/2018   11.0    12.0     8.0     2664.0    2900.0        1.09   \n",
      "\n",
      "   five_donuts  walk  run  wine  prot  weight  change  \n",
      "0          1.0   1.0  0.0   0.0   0.0     0.0   -30.0  \n",
      "1          1.0   0.0  0.0   0.0   0.0     0.0     8.0  \n",
      "2          1.0   1.0  0.0   0.0   0.0     0.0     0.0  \n",
      "3          1.0   1.0  0.0   1.0   0.0     0.0   -40.0  \n",
      "4          1.0   1.0  0.0   0.0   0.0     0.0    14.0  \n"
     ]
    },
    {
     "name": "stderr",
     "output_type": "stream",
     "text": [
      "/Library/Frameworks/Python.framework/Versions/3.12/lib/python3.12/site-packages/urllib3/connectionpool.py:1099: InsecureRequestWarning: Unverified HTTPS request is being made to host 'raw.githubusercontent.com'. Adding certificate verification is strongly advised. See: https://urllib3.readthedocs.io/en/latest/advanced-usage.html#tls-warnings\n",
      "  warnings.warn(\n"
     ]
    }
   ],
   "source": [
    "import pandas as pd\n",
    "import seaborn as sns\n",
    "import matplotlib.pyplot as plt\n",
    "from sklearn.impute import KNNImputer\n",
    "\n",
    "import xgboost as xgb\n",
    "from sklearn.metrics import mean_squared_error\n",
    "from sklearn.model_selection import train_test_split\n",
    "import matplotlib.pyplot as plt\n",
    "\n",
    "# URL to the raw CSV file on GitHub\n",
    "url = \"https://raw.githubusercontent.com/calvinkochunisg/HSG-CS-Project/dev/Data/diet_data%202.csv\"\n",
    "response = requests.get(url, verify=False)\n",
    "if response.status_code == 200:\n",
    "    data = StringIO(response.text)\n",
    "    data = pd.read_csv(data)\n",
    "    print(df.head())\n",
    "else:\n",
    "    print('Failed to retrieve data:', response.status_code)"
   ]
  },
  {
   "cell_type": "markdown",
   "metadata": {},
   "source": [
    "### Cleaning"
   ]
  },
  {
   "cell_type": "code",
   "execution_count": 16,
   "metadata": {},
   "outputs": [
    {
     "name": "stdout",
     "output_type": "stream",
     "text": [
      "        Date  Stone  Pounds  Ounces  weight_oz  calories cals_per_oz  \\\n",
      "0  7/30/2018   12.0     2.0     6.0     2726.0    1950.0        0.72   \n",
      "1  7/31/2018   12.0     0.0     8.0     2696.0    2600.0        0.96   \n",
      "2   8/1/2018   12.0     1.0     0.0     2704.0    2500.0        0.92   \n",
      "3   8/2/2018   12.0     1.0     0.0     2704.0    1850.0        0.68   \n",
      "4   8/3/2018   11.0    12.0     8.0     2664.0    2900.0        1.09   \n",
      "\n",
      "   five_donuts  walk  run  wine  prot  weight  change  \n",
      "0          1.0   1.0  0.0   0.0   0.0     0.0   -30.0  \n",
      "1          1.0   0.0  0.0   0.0   0.0     0.0     8.0  \n",
      "2          1.0   1.0  0.0   0.0   0.0     0.0     0.0  \n",
      "3          1.0   1.0  0.0   1.0   0.0     0.0   -40.0  \n",
      "4          1.0   1.0  0.0   0.0   0.0     0.0    14.0  \n",
      "<class 'pandas.core.frame.DataFrame'>\n",
      "RangeIndex: 151 entries, 0 to 150\n",
      "Data columns (total 14 columns):\n",
      " #   Column       Non-Null Count  Dtype  \n",
      "---  ------       --------------  -----  \n",
      " 0   Date         150 non-null    object \n",
      " 1   Stone        142 non-null    float64\n",
      " 2   Pounds       142 non-null    float64\n",
      " 3   Ounces       142 non-null    float64\n",
      " 4   weight_oz    149 non-null    float64\n",
      " 5   calories     140 non-null    float64\n",
      " 6   cals_per_oz  147 non-null    object \n",
      " 7   five_donuts  140 non-null    float64\n",
      " 8   walk         140 non-null    float64\n",
      " 9   run          140 non-null    float64\n",
      " 10  wine         140 non-null    float64\n",
      " 11  prot         140 non-null    float64\n",
      " 12  weight       140 non-null    float64\n",
      " 13  change       147 non-null    float64\n",
      "dtypes: float64(12), object(2)\n",
      "memory usage: 16.6+ KB\n",
      "            Stone  Pounds  Ounces  weight_oz  calories cals_per_oz  \\\n",
      "Date                                                                 \n",
      "2018-07-30   12.0     2.0     6.0     2726.0    1950.0        0.72   \n",
      "2018-07-31   12.0     0.0     8.0     2696.0    2600.0        0.96   \n",
      "2018-08-01   12.0     1.0     0.0     2704.0    2500.0        0.92   \n",
      "2018-08-02   12.0     1.0     0.0     2704.0    1850.0        0.68   \n",
      "2018-08-03   11.0    12.0     8.0     2664.0    2900.0        1.09   \n",
      "\n",
      "            five_donuts  walk  run  wine  prot  weight  change  \n",
      "Date                                                            \n",
      "2018-07-30          1.0   1.0  0.0   0.0   0.0     0.0   -30.0  \n",
      "2018-07-31          1.0   0.0  0.0   0.0   0.0     0.0     8.0  \n",
      "2018-08-01          1.0   1.0  0.0   0.0   0.0     0.0     0.0  \n",
      "2018-08-02          1.0   1.0  0.0   1.0   0.0     0.0   -40.0  \n",
      "2018-08-03          1.0   1.0  0.0   0.0   0.0     0.0    14.0  \n",
      "            calories  walk  run  wine  weight         kg\n",
      "Date                                                    \n",
      "2018-07-30    1950.0   1.0  0.0   0.0     0.0  77.280737\n",
      "2018-07-31    2600.0   0.0  0.0   0.0     0.0  76.430252\n",
      "2018-08-01    2500.0   1.0  0.0   0.0     0.0  76.657048\n",
      "2018-08-02    1850.0   1.0  0.0   1.0     0.0  76.657048\n",
      "2018-08-03    2900.0   1.0  0.0   0.0     0.0  75.523068\n",
      "<class 'pandas.core.frame.DataFrame'>\n",
      "DatetimeIndex: 151 entries, 2018-07-30 to NaT\n",
      "Data columns (total 6 columns):\n",
      " #   Column    Non-Null Count  Dtype  \n",
      "---  ------    --------------  -----  \n",
      " 0   calories  140 non-null    float64\n",
      " 1   walk      140 non-null    float64\n",
      " 2   run       140 non-null    float64\n",
      " 3   wine      140 non-null    float64\n",
      " 4   weight    140 non-null    float64\n",
      " 5   kg        149 non-null    float64\n",
      "dtypes: float64(6)\n",
      "memory usage: 8.3 KB\n",
      "None\n",
      "            calories  walk  run  wine  weight         kg\n",
      "Date                                                    \n",
      "2018-12-18    1900.0   1.0  0.0   0.0     0.0  74.615884\n",
      "2018-12-19    1500.0   1.0  0.0   1.0     0.0  74.502486\n",
      "2018-12-20       NaN   NaN  NaN   NaN     NaN  73.652001\n",
      "2018-12-21       NaN   NaN  NaN   NaN     NaN   0.000000\n",
      "2018-12-22       NaN   NaN  NaN   NaN     NaN   0.000000\n",
      "2018-12-23       NaN   NaN  NaN   NaN     NaN   0.000000\n",
      "2018-12-24       NaN   NaN  NaN   NaN     NaN   0.000000\n",
      "2018-12-25       NaN   NaN  NaN   NaN     NaN   0.000000\n",
      "2018-12-26       NaN   NaN  NaN   NaN     NaN   0.000000\n",
      "NaT              NaN   NaN  NaN   NaN     NaN   0.000000\n",
      "            calories  walk  run  wine  weight         kg\n",
      "Date                                                    \n",
      "2018-07-30    1950.0   1.0  0.0   0.0     0.0  76.430252\n",
      "2018-07-31    2600.0   0.0  0.0   0.0     0.0  76.657048\n",
      "2018-08-01    2500.0   1.0  0.0   0.0     0.0  76.657048\n",
      "2018-08-02    1850.0   1.0  0.0   1.0     0.0  75.523068\n",
      "2018-08-03    2900.0   1.0  0.0   0.0     0.0  75.919961\n",
      "            calories  walk  run  wine  weight         kg\n",
      "Date                                                    \n",
      "2018-12-15    5750.0   0.0  0.0   0.0     0.0  75.296272\n",
      "2018-12-16    2950.0   1.0  1.0   0.0     0.0  75.296272\n",
      "2018-12-17    1950.0   1.0  0.0   0.0     0.0  74.615884\n",
      "2018-12-18    1900.0   1.0  0.0   0.0     0.0  74.502486\n",
      "2018-12-19    1500.0   1.0  0.0   1.0     0.0  73.652001\n"
     ]
    }
   ],
   "source": [
    "print(data.head())\n",
    "data.info()\n",
    "\n",
    "#convert to datetime\n",
    "data['Date'] = pd.to_datetime(data['Date'], format='%m/%d/%Y')\n",
    "data.set_index('Date', inplace=True)\n",
    "print(data.head())\n",
    "\n",
    "# converting ounces to kilogram which is a more popular measurement for countries outsides of U.S.\n",
    "conversion_factor = 0.0283495\n",
    "\n",
    "data[\"kg\"] = data[\"weight_oz\"]*conversion_factor\n",
    "\n",
    "# dropping the features with existing information to avoid multicolinearity, \n",
    "# \"cals_per_oz\" and \"prot\" are dropped as not provided in the API\n",
    "data_clean = data.drop([\"Stone\", \"Pounds\", \"Ounces\", \"five_donuts\", \n",
    "                        \"weight_oz\", \"cals_per_oz\", \"prot\", \"change\"], axis=1)\n",
    "print(data_clean.head())\n",
    "print(data_clean.info())\n",
    "print(data_clean.tail(10))\n",
    "\n",
    "#shifting the \"kg\" column up because this result is measured before exercising, \n",
    "# but it is only useful at the day end to see the result\n",
    "\n",
    "data_clean['kg'] = data_clean['kg'].shift(-1)\n",
    "\n",
    "# Remove the last 8 rows of the DataFrame because they are pure NaN\n",
    "data_clean = data_clean[:-8]\n",
    "print(data_clean.head())\n",
    "print(data_clean.tail())"
   ]
  },
  {
   "cell_type": "markdown",
   "metadata": {},
   "source": [
    "### KNN Imputer"
   ]
  },
  {
   "cell_type": "code",
   "execution_count": null,
   "metadata": {},
   "outputs": [],
   "source": [
    "# using two weeks for test data, since the dataset at hand is really small\n",
    "# too out the last week as anomalie, as a huge dip is observed, maybe the recorder feels motivated than ever as Christmas approaches\n",
    "data_train = data_clean[data_clean.index < \"2018-12-06\"]\n",
    "data_test = data_clean[(data_clean.index >= \"2018-12-06\") & (data_clean.index <= \"2018-12-12\")]\n",
    "\n",
    "# KNN imputer to give values to the NaN\n",
    "imputer = KNNImputer(n_neighbors=5, weights='uniform')\n",
    "imputed_train_1 = imputer.fit_transform(data_train)\n",
    "imputed_train = pd.DataFrame(imputed_train_1, index=data_train.index, columns=data_train.columns)\n",
    "print(imputed_train.shape)\n",
    "\n",
    "imputed_test_1 = imputer.fit_transform(data_test)\n",
    "imputed_test = pd.DataFrame(imputed_test_1, index=data_test.index, columns=data_test.columns)\n",
    "print(imputed_test.shape)\n",
    "\n",
    "missing_values = imputed_train.isnull().sum().sum()\n",
    "print(\"Missing values in the DataFrame:\", missing_values)"
   ]
  },
  {
   "cell_type": "markdown",
   "metadata": {},
   "source": [
    "### XGBoost"
   ]
  },
  {
   "cell_type": "code",
   "execution_count": null,
   "metadata": {},
   "outputs": [],
   "source": [
    "# Splitting the data into features and target\n",
    "X_train = imputed_train.drop(\"kg\", axis=1)\n",
    "y_train = imputed_train[\"kg\"]\n",
    "X_test = imputed_test.drop(\"kg\", axis=1)\n",
    "y_test = imputed_test[\"kg\"]\n",
    "\n",
    "# Initialize and train the XGBoost model\n",
    "model_xgb = xgb.XGBRegressor(objective ='reg:squarederror', n_estimators=100, seed=42)\n",
    "model_xgb.fit(X_train, y_train)\n",
    "\n",
    "# Predictions and Evaluation\n",
    "y_pred = model_xgb.predict(X_test)\n",
    "mse = mean_squared_error(y_test, y_pred)\n",
    "print(f\"Mean Squared Error: {mse}\")"
   ]
  }
 ],
 "metadata": {
  "kernelspec": {
   "display_name": "Python 3",
   "language": "python",
   "name": "python3"
  },
  "language_info": {
   "codemirror_mode": {
    "name": "ipython",
    "version": 3
   },
   "file_extension": ".py",
   "mimetype": "text/x-python",
   "name": "python",
   "nbconvert_exporter": "python",
   "pygments_lexer": "ipython3",
   "version": "3.12.0"
  }
 },
 "nbformat": 4,
 "nbformat_minor": 2
}
