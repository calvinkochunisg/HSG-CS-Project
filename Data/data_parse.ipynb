{
 "cells": [
  {
   "cell_type": "code",
   "execution_count": 4,
   "metadata": {},
   "outputs": [
    {
     "name": "stdout",
     "output_type": "stream",
     "text": [
      "URL: https://api.spoonacular.com/mealplanner/generate?apiKey=4deaceca7a6448ba9d2006710177aad3&timeframe=week&diet=vegetarian\n",
      "         Day  Calories  Protein    Fat  Carbohydrates\n",
      "0     Monday   1905.37    49.12  66.56         284.89\n",
      "1    Tuesday   1921.54    49.61  69.38         274.93\n",
      "2  Wednesday   1975.22    51.88  68.36         293.47\n",
      "3   Thursday   1973.59    51.73  63.61         298.17\n",
      "4     Friday   1990.74    50.68  68.09         299.37\n",
      "5   Saturday   2030.43    51.17  70.46         303.78\n",
      "6     Sunday   1921.54    49.61  69.38         274.93\n"
     ]
    }
   ],
   "source": [
    "import subprocess\n",
    "import requests\n",
    "import pandas as pd\n",
    "import json\n",
    "\n",
    "def fetch_nutrients_dataframe():\n",
    "    command = ['python', '../System/Volumes/Data/Users/shinanchen/Library/Application Support/Code/User/globalStorage/github.remotehub/5f8918f5e47d3ff3cfc6ce6c33a3bc18/changestore/vscode-vfs-github+7b2276223a312c22726566223a7b2274797065223a342c226964223a22646576227d7d/calvinkochunisg/HSG-CS-Project/api/spoonacular.py']\n",
    "\n",
    "    # Run the command and capture the output\n",
    "    result = subprocess.run(command, stdout=subprocess.PIPE, stderr=subprocess.PIPE, text=True)\n",
    "\n",
    "    # Check if the script executed successfully\n",
    "    if result.returncode == 0:\n",
    "        # The script executed successfully, process the stdout\n",
    "        url_output = result.stdout.strip()\n",
    "    else:\n",
    "        # There was an error executing the script, process the stderr\n",
    "        print(f\"Error executing script: {result.stderr}\")\n",
    "        return None\n",
    "\n",
    "    if url_output:\n",
    "        url = url_output\n",
    "        print(f\"URL: {url}\")\n",
    "    else:\n",
    "        print(\"No URL captured from the script output.\")\n",
    "        return None\n",
    "\n",
    "    # Make a GET request to the URL\n",
    "    response = requests.get(url)\n",
    "\n",
    "    if response.status_code == 200:\n",
    "        data = response.json()\n",
    "    else:\n",
    "        print(f\"Failed to fetch data, status code: {response.status_code}\")\n",
    "        return None\n",
    "\n",
    "    # Initialize a list to hold structured nutrient data\n",
    "    structured_nutrients = []\n",
    "\n",
    "    # Iterate over each day in the data\n",
    "    for day, content in data['week'].items():\n",
    "        # Extract nutrients data and include the day of the week\n",
    "        nutrients_data = {\n",
    "            'Day': day.capitalize(),\n",
    "            'Calories': content['nutrients']['calories'],\n",
    "            'Protein': content['nutrients']['protein'],\n",
    "            'Fat': content['nutrients']['fat'],\n",
    "            'Carbohydrates': content['nutrients']['carbohydrates']\n",
    "        }\n",
    "        # Append the nutrients data to the list\n",
    "        structured_nutrients.append(nutrients_data)\n",
    "\n",
    "    # Convert the list of nutrients data into a DataFrame\n",
    "    df_nutrients = pd.DataFrame(structured_nutrients)\n",
    "    return df_nutrients\n",
    "\n",
    "# Call the function and get the nutrients DataFrame\n",
    "nutrients_df = fetch_nutrients_dataframe()\n",
    "\n",
    "if nutrients_df is not None:\n",
    "    print(nutrients_df)\n"
   ]
  }
 ],
 "metadata": {
  "kernelspec": {
   "display_name": "Python 3",
   "language": "python",
   "name": "python3"
  },
  "language_info": {
   "codemirror_mode": {
    "name": "ipython",
    "version": 3
   },
   "file_extension": ".py",
   "mimetype": "text/x-python",
   "name": "python",
   "nbconvert_exporter": "python",
   "pygments_lexer": "ipython3",
   "version": "3.12.0"
  }
 },
 "nbformat": 4,
 "nbformat_minor": 2
}
