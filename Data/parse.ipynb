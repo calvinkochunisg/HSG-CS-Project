{
 "cells": [
  {
   "cell_type": "markdown",
   "metadata": {},
   "source": [
    "# Data Parse"
   ]
  },
  {
   "cell_type": "code",
   "execution_count": 2,
   "metadata": {},
   "outputs": [],
   "source": [
    "import subprocess\n",
    "import requests\n",
    "import pandas as pd\n",
    "import json"
   ]
  },
  {
   "cell_type": "code",
   "execution_count": 3,
   "metadata": {},
   "outputs": [
    {
     "name": "stdout",
     "output_type": "stream",
     "text": [
      "Error executing script: python: can't open file '//https://github.com/calvinkochunisg/HSG-CS-Project/blob/dev/api/spoonacular.py': [Errno 2] No such file or directory\n",
      "\n"
     ]
    }
   ],
   "source": [
    "#trial\n",
    "\n",
    "def fetch_nutrients_dataframe():\n",
    "    command = ['python', 'https://github.com/calvinkochunisg/HSG-CS-Project/blob/dev/api/spoonacular.py']\n",
    "\n",
    "    # Run the command and capture the output\n",
    "    result = subprocess.run(command, stdout=subprocess.PIPE, stderr=subprocess.PIPE, text=True)\n",
    "\n",
    "    # Check if the script executed successfully\n",
    "    if result.returncode == 0:\n",
    "        # The script executed successfully, process the stdout\n",
    "        url_output = result.stdout.strip()\n",
    "    else:\n",
    "        # There was an error executing the script, process the stderr\n",
    "        print(f\"Error executing script: {result.stderr}\")\n",
    "        return None\n",
    "\n",
    "    if url_output:\n",
    "        url = url_output\n",
    "        print(f\"URL: {url}\")\n",
    "    else:\n",
    "        print(\"No URL captured from the script output.\")\n",
    "        return None\n",
    "\n",
    "    # Make a GET request to the URL\n",
    "    response = requests.get(url)\n",
    "\n",
    "    if response.status_code == 200:\n",
    "        data = response.json()\n",
    "    else:\n",
    "        print(f\"Failed to fetch data, status code: {response.status_code}\")\n",
    "        return None\n",
    "\n",
    "    # Initialize a list to hold structured nutrient data\n",
    "    structured_nutrients = []\n",
    "\n",
    "    # Iterate over each day in the data\n",
    "    for day, content in data['week'].items():\n",
    "        # Extract nutrients data and include the day of the week\n",
    "        nutrients_data = {\n",
    "            'Day': day.capitalize(),\n",
    "            'Calories': content['nutrients']['calories'],\n",
    "            'Protein': content['nutrients']['protein'],\n",
    "            'Fat': content['nutrients']['fat'],\n",
    "            'Carbohydrates': content['nutrients']['carbohydrates']\n",
    "        }\n",
    "        # Append the nutrients data to the list\n",
    "        structured_nutrients.append(nutrients_data)\n",
    "\n",
    "    # Convert the list of nutrients data into a DataFrame\n",
    "    df_nutrients = pd.DataFrame(structured_nutrients)\n",
    "    return df_nutrients\n",
    "\n",
    "# Call the function and get the nutrients DataFrame\n",
    "df_nutrients = fetch_nutrients_dataframe()\n",
    "\n",
    "if df_nutrients is not None:\n",
    "    print(df_nutrients)"
   ]
  },
  {
   "cell_type": "markdown",
   "metadata": {},
   "source": [
    "## User dataframe"
   ]
  },
  {
   "cell_type": "markdown",
   "metadata": {},
   "source": [
    "### Calories"
   ]
  },
  {
   "cell_type": "code",
   "execution_count": 14,
   "metadata": {},
   "outputs": [
    {
     "data": {
      "text/html": [
       "<div>\n",
       "<style scoped>\n",
       "    .dataframe tbody tr th:only-of-type {\n",
       "        vertical-align: middle;\n",
       "    }\n",
       "\n",
       "    .dataframe tbody tr th {\n",
       "        vertical-align: top;\n",
       "    }\n",
       "\n",
       "    .dataframe thead th {\n",
       "        text-align: right;\n",
       "    }\n",
       "</style>\n",
       "<table border=\"1\" class=\"dataframe\">\n",
       "  <thead>\n",
       "    <tr style=\"text-align: right;\">\n",
       "      <th></th>\n",
       "      <th>calories</th>\n",
       "    </tr>\n",
       "  </thead>\n",
       "  <tbody>\n",
       "    <tr>\n",
       "      <th>0</th>\n",
       "      <td>1915.75</td>\n",
       "    </tr>\n",
       "    <tr>\n",
       "      <th>1</th>\n",
       "      <td>1953.83</td>\n",
       "    </tr>\n",
       "    <tr>\n",
       "      <th>2</th>\n",
       "      <td>1975.22</td>\n",
       "    </tr>\n",
       "    <tr>\n",
       "      <th>3</th>\n",
       "      <td>1941.76</td>\n",
       "    </tr>\n",
       "    <tr>\n",
       "      <th>4</th>\n",
       "      <td>1905.37</td>\n",
       "    </tr>\n",
       "    <tr>\n",
       "      <th>5</th>\n",
       "      <td>1941.28</td>\n",
       "    </tr>\n",
       "    <tr>\n",
       "      <th>6</th>\n",
       "      <td>1932.71</td>\n",
       "    </tr>\n",
       "  </tbody>\n",
       "</table>\n",
       "</div>"
      ],
      "text/plain": [
       "   calories\n",
       "0   1915.75\n",
       "1   1953.83\n",
       "2   1975.22\n",
       "3   1941.76\n",
       "4   1905.37\n",
       "5   1941.28\n",
       "6   1932.71"
      ]
     },
     "execution_count": 14,
     "metadata": {},
     "output_type": "execute_result"
    }
   ],
   "source": [
    "url = \"https://api.spoonacular.com/mealplanner/generate?apiKey=4deaceca7a6448ba9d2006710177aad3&timeframe=week&diet=vegetarian\"\n",
    "\n",
    "def parse(url):    \n",
    "    response = requests.get(url)\n",
    "\n",
    "    if response.status_code == 200:\n",
    "        data = response.json()\n",
    "    else:\n",
    "        print(f\"Failed to fetch data, status code: {response.status_code}\")\n",
    "        return None\n",
    "    structured_nutrients = []\n",
    "\n",
    "    # Iterate over each day in the data\n",
    "    for day, content in data['week'].items():\n",
    "        # Extract nutrients data and include the day of the week\n",
    "        nutrients_data = {\n",
    "            'Day': day.capitalize(),\n",
    "            'calories': content['nutrients']['calories'],\n",
    "            'Protein': content['nutrients']['protein'],\n",
    "            'Fat': content['nutrients']['fat'],\n",
    "            'Carbohydrates': content['nutrients']['carbohydrates']\n",
    "        }\n",
    "        # Append the nutrients data to the list\n",
    "        structured_nutrients.append(nutrients_data)\n",
    "\n",
    "    # Convert the list of nutrients data into a DataFrame\n",
    "    user_cal = pd.DataFrame(structured_nutrients)\n",
    "    user_cal = user_cal[[\"calories\"]]\n",
    "    return user_cal\n",
    "\n",
    "# Call the function and get the nutrients DataFrame\n",
    "user_cal = parse(url)\n",
    "\n",
    "user_cal"
   ]
  },
  {
   "cell_type": "markdown",
   "metadata": {},
   "source": [
    "### Convert"
   ]
  },
  {
   "cell_type": "code",
   "execution_count": 15,
   "metadata": {},
   "outputs": [
    {
     "data": {
      "text/html": [
       "<div>\n",
       "<style scoped>\n",
       "    .dataframe tbody tr th:only-of-type {\n",
       "        vertical-align: middle;\n",
       "    }\n",
       "\n",
       "    .dataframe tbody tr th {\n",
       "        vertical-align: top;\n",
       "    }\n",
       "\n",
       "    .dataframe thead th {\n",
       "        text-align: right;\n",
       "    }\n",
       "</style>\n",
       "<table border=\"1\" class=\"dataframe\">\n",
       "  <thead>\n",
       "    <tr style=\"text-align: right;\">\n",
       "      <th></th>\n",
       "      <th>calories</th>\n",
       "      <th>walk</th>\n",
       "      <th>run</th>\n",
       "      <th>wine</th>\n",
       "      <th>weight</th>\n",
       "    </tr>\n",
       "  </thead>\n",
       "  <tbody>\n",
       "    <tr>\n",
       "      <th>mon</th>\n",
       "      <td>1948.62</td>\n",
       "      <td>0</td>\n",
       "      <td>1</td>\n",
       "      <td>0</td>\n",
       "      <td>0</td>\n",
       "    </tr>\n",
       "    <tr>\n",
       "      <th>tue</th>\n",
       "      <td>1941.28</td>\n",
       "      <td>1</td>\n",
       "      <td>0</td>\n",
       "      <td>1</td>\n",
       "      <td>1</td>\n",
       "    </tr>\n",
       "    <tr>\n",
       "      <th>wed</th>\n",
       "      <td>1948.62</td>\n",
       "      <td>0</td>\n",
       "      <td>0</td>\n",
       "      <td>0</td>\n",
       "      <td>1</td>\n",
       "    </tr>\n",
       "    <tr>\n",
       "      <th>thu</th>\n",
       "      <td>1970.01</td>\n",
       "      <td>1</td>\n",
       "      <td>1</td>\n",
       "      <td>0</td>\n",
       "      <td>0</td>\n",
       "    </tr>\n",
       "    <tr>\n",
       "      <th>fri</th>\n",
       "      <td>1970.01</td>\n",
       "      <td>0</td>\n",
       "      <td>0</td>\n",
       "      <td>1</td>\n",
       "      <td>0</td>\n",
       "    </tr>\n",
       "    <tr>\n",
       "      <th>sat</th>\n",
       "      <td>1941.28</td>\n",
       "      <td>0</td>\n",
       "      <td>0</td>\n",
       "      <td>0</td>\n",
       "      <td>1</td>\n",
       "    </tr>\n",
       "    <tr>\n",
       "      <th>sun</th>\n",
       "      <td>1905.37</td>\n",
       "      <td>1</td>\n",
       "      <td>1</td>\n",
       "      <td>1</td>\n",
       "      <td>0</td>\n",
       "    </tr>\n",
       "  </tbody>\n",
       "</table>\n",
       "</div>"
      ],
      "text/plain": [
       "     calories  walk  run  wine  weight\n",
       "mon   1948.62     0    1     0       0\n",
       "tue   1941.28     1    0     1       1\n",
       "wed   1948.62     0    0     0       1\n",
       "thu   1970.01     1    1     0       0\n",
       "fri   1970.01     0    0     1       0\n",
       "sat   1941.28     0    0     0       1\n",
       "sun   1905.37     1    1     1       0"
      ]
     },
     "execution_count": 15,
     "metadata": {},
     "output_type": "execute_result"
    }
   ],
   "source": [
    "# this function is use to convert the planned workout session into binary variables for prediction\n",
    "\n",
    "def convert(url, walk_days, run_days, weights_days, wine_days):\n",
    "    user_cal = parse(url)\n",
    "    # get function for url\n",
    "    week = [\"mon\", \"tue\", \"wed\", \"thu\", \"fri\", \"sat\", \"sun\"]\n",
    "    walk = []\n",
    "    run = []\n",
    "    wine = []\n",
    "    weights = []\n",
    "\n",
    "    for day in week:\n",
    "        if day in walk_days:\n",
    "            walk.append(1)\n",
    "        else:\n",
    "            walk.append(0)\n",
    "\n",
    "    for day in week:\n",
    "        if day in run_days:\n",
    "            run.append(1)\n",
    "        else:\n",
    "            run.append(0)\n",
    "\n",
    "    for day in week:\n",
    "        if day in wine_days:\n",
    "            wine.append(1)\n",
    "        else:\n",
    "            wine.append(0)\n",
    "\n",
    "    for day in week:\n",
    "        if day in weights_days:\n",
    "            weights.append(1)\n",
    "        else:\n",
    "            weights.append(0)\n",
    "\n",
    "    user_rhy = pd.DataFrame({\n",
    "                        'walk': walk,\n",
    "                        'run': run,\n",
    "                        'wine': wine,\n",
    "                        'weight': weights})\n",
    "    \n",
    "    user_data = pd.concat([user_cal,user_rhy], axis=1)\n",
    "    user_data.reset_index(drop=True, inplace=True)\n",
    "    user_data.index = [\"mon\", \"tue\", \"wed\", \"thu\", \"fri\", \"sat\", \"sun\"]\n",
    "    return user_data\n",
    "\n",
    "# Example usage\n",
    "list_date = [\"tue\", \"thu\", \"sun\"]\n",
    "list_date2 = [\"mon\", \"thu\", \"sun\"]\n",
    "list_date3 = [\"tue\", \"wed\", \"sat\"]\n",
    "list_date4 = [\"tue\", \"fri\", \"sun\"]\n",
    "\n",
    "user_data = convert(url, list_date, list_date2, list_date3, list_date4)\n",
    "user_data"
   ]
  },
  {
   "cell_type": "markdown",
   "metadata": {},
   "source": [
    "# Modelling"
   ]
  },
  {
   "cell_type": "markdown",
   "metadata": {},
   "source": [
    "### Preparation"
   ]
  },
  {
   "cell_type": "code",
   "execution_count": 30,
   "metadata": {},
   "outputs": [
    {
     "name": "stdout",
     "output_type": "stream",
     "text": [
      "        Date  Stone  Pounds  Ounces  weight_oz  calories cals_per_oz  \\\n",
      "0  7/30/2018   12.0     2.0     6.0     2726.0    1950.0        0.72   \n",
      "1  7/31/2018   12.0     0.0     8.0     2696.0    2600.0        0.96   \n",
      "2   8/1/2018   12.0     1.0     0.0     2704.0    2500.0        0.92   \n",
      "3   8/2/2018   12.0     1.0     0.0     2704.0    1850.0        0.68   \n",
      "4   8/3/2018   11.0    12.0     8.0     2664.0    2900.0        1.09   \n",
      "\n",
      "   five_donuts  walk  run  wine  prot  weight  change  \n",
      "0          1.0   1.0  0.0   0.0   0.0     0.0   -30.0  \n",
      "1          1.0   0.0  0.0   0.0   0.0     0.0     8.0  \n",
      "2          1.0   1.0  0.0   0.0   0.0     0.0     0.0  \n",
      "3          1.0   1.0  0.0   1.0   0.0     0.0   -40.0  \n",
      "4          1.0   1.0  0.0   0.0   0.0     0.0    14.0  \n"
     ]
    },
    {
     "name": "stderr",
     "output_type": "stream",
     "text": [
      "/Library/Frameworks/Python.framework/Versions/3.12/lib/python3.12/site-packages/urllib3/connectionpool.py:1099: InsecureRequestWarning: Unverified HTTPS request is being made to host 'raw.githubusercontent.com'. Adding certificate verification is strongly advised. See: https://urllib3.readthedocs.io/en/latest/advanced-usage.html#tls-warnings\n",
      "  warnings.warn(\n"
     ]
    }
   ],
   "source": [
    "import pandas as pd\n",
    "import seaborn as sns\n",
    "import matplotlib.pyplot as plt\n",
    "from sklearn.impute import KNNImputer\n",
    "from io import StringIO\n",
    "\n",
    "import xgboost as xgb\n",
    "from sklearn.metrics import mean_squared_error\n",
    "from sklearn.model_selection import train_test_split\n",
    "import matplotlib.pyplot as plt\n",
    "\n",
    "# URL to the raw CSV file on GitHub\n",
    "url = \"https://raw.githubusercontent.com/calvinkochunisg/HSG-CS-Project/dev/Data/diet_data%202.csv\"\n",
    "response = requests.get(url, verify=False)\n",
    "if response.status_code == 200:\n",
    "    data = StringIO(response.text)\n",
    "    data = pd.read_csv(data)\n",
    "    print(data.head())\n",
    "else:\n",
    "    print('Failed to retrieve data:', response.status_code)"
   ]
  },
  {
   "cell_type": "markdown",
   "metadata": {},
   "source": [
    "### Cleaning"
   ]
  },
  {
   "cell_type": "code",
   "execution_count": 31,
   "metadata": {},
   "outputs": [
    {
     "name": "stdout",
     "output_type": "stream",
     "text": [
      "        Date  Stone  Pounds  Ounces  weight_oz  calories cals_per_oz  \\\n",
      "0  7/30/2018   12.0     2.0     6.0     2726.0    1950.0        0.72   \n",
      "1  7/31/2018   12.0     0.0     8.0     2696.0    2600.0        0.96   \n",
      "2   8/1/2018   12.0     1.0     0.0     2704.0    2500.0        0.92   \n",
      "3   8/2/2018   12.0     1.0     0.0     2704.0    1850.0        0.68   \n",
      "4   8/3/2018   11.0    12.0     8.0     2664.0    2900.0        1.09   \n",
      "\n",
      "   five_donuts  walk  run  wine  prot  weight  change  \n",
      "0          1.0   1.0  0.0   0.0   0.0     0.0   -30.0  \n",
      "1          1.0   0.0  0.0   0.0   0.0     0.0     8.0  \n",
      "2          1.0   1.0  0.0   0.0   0.0     0.0     0.0  \n",
      "3          1.0   1.0  0.0   1.0   0.0     0.0   -40.0  \n",
      "4          1.0   1.0  0.0   0.0   0.0     0.0    14.0  \n",
      "<class 'pandas.core.frame.DataFrame'>\n",
      "RangeIndex: 151 entries, 0 to 150\n",
      "Data columns (total 14 columns):\n",
      " #   Column       Non-Null Count  Dtype  \n",
      "---  ------       --------------  -----  \n",
      " 0   Date         150 non-null    object \n",
      " 1   Stone        142 non-null    float64\n",
      " 2   Pounds       142 non-null    float64\n",
      " 3   Ounces       142 non-null    float64\n",
      " 4   weight_oz    149 non-null    float64\n",
      " 5   calories     140 non-null    float64\n",
      " 6   cals_per_oz  147 non-null    object \n",
      " 7   five_donuts  140 non-null    float64\n",
      " 8   walk         140 non-null    float64\n",
      " 9   run          140 non-null    float64\n",
      " 10  wine         140 non-null    float64\n",
      " 11  prot         140 non-null    float64\n",
      " 12  weight       140 non-null    float64\n",
      " 13  change       147 non-null    float64\n",
      "dtypes: float64(12), object(2)\n",
      "memory usage: 16.6+ KB\n",
      "            Stone  Pounds  Ounces  weight_oz  calories cals_per_oz  \\\n",
      "Date                                                                 \n",
      "2018-07-30   12.0     2.0     6.0     2726.0    1950.0        0.72   \n",
      "2018-07-31   12.0     0.0     8.0     2696.0    2600.0        0.96   \n",
      "2018-08-01   12.0     1.0     0.0     2704.0    2500.0        0.92   \n",
      "2018-08-02   12.0     1.0     0.0     2704.0    1850.0        0.68   \n",
      "2018-08-03   11.0    12.0     8.0     2664.0    2900.0        1.09   \n",
      "\n",
      "            five_donuts  walk  run  wine  prot  weight  change  \n",
      "Date                                                            \n",
      "2018-07-30          1.0   1.0  0.0   0.0   0.0     0.0   -30.0  \n",
      "2018-07-31          1.0   0.0  0.0   0.0   0.0     0.0     8.0  \n",
      "2018-08-01          1.0   1.0  0.0   0.0   0.0     0.0     0.0  \n",
      "2018-08-02          1.0   1.0  0.0   1.0   0.0     0.0   -40.0  \n",
      "2018-08-03          1.0   1.0  0.0   0.0   0.0     0.0    14.0  \n",
      "            calories  walk  run  wine  weight         kg\n",
      "Date                                                    \n",
      "2018-07-30    1950.0   1.0  0.0   0.0     0.0  77.280737\n",
      "2018-07-31    2600.0   0.0  0.0   0.0     0.0  76.430252\n",
      "2018-08-01    2500.0   1.0  0.0   0.0     0.0  76.657048\n",
      "2018-08-02    1850.0   1.0  0.0   1.0     0.0  76.657048\n",
      "2018-08-03    2900.0   1.0  0.0   0.0     0.0  75.523068\n",
      "<class 'pandas.core.frame.DataFrame'>\n",
      "DatetimeIndex: 151 entries, 2018-07-30 to NaT\n",
      "Data columns (total 6 columns):\n",
      " #   Column    Non-Null Count  Dtype  \n",
      "---  ------    --------------  -----  \n",
      " 0   calories  140 non-null    float64\n",
      " 1   walk      140 non-null    float64\n",
      " 2   run       140 non-null    float64\n",
      " 3   wine      140 non-null    float64\n",
      " 4   weight    140 non-null    float64\n",
      " 5   kg        149 non-null    float64\n",
      "dtypes: float64(6)\n",
      "memory usage: 8.3 KB\n",
      "None\n",
      "            calories  walk  run  wine  weight         kg\n",
      "Date                                                    \n",
      "2018-12-18    1900.0   1.0  0.0   0.0     0.0  74.615884\n",
      "2018-12-19    1500.0   1.0  0.0   1.0     0.0  74.502486\n",
      "2018-12-20       NaN   NaN  NaN   NaN     NaN  73.652001\n",
      "2018-12-21       NaN   NaN  NaN   NaN     NaN   0.000000\n",
      "2018-12-22       NaN   NaN  NaN   NaN     NaN   0.000000\n",
      "2018-12-23       NaN   NaN  NaN   NaN     NaN   0.000000\n",
      "2018-12-24       NaN   NaN  NaN   NaN     NaN   0.000000\n",
      "2018-12-25       NaN   NaN  NaN   NaN     NaN   0.000000\n",
      "2018-12-26       NaN   NaN  NaN   NaN     NaN   0.000000\n",
      "NaT              NaN   NaN  NaN   NaN     NaN   0.000000\n",
      "            calories  walk  run  wine  weight         kg\n",
      "Date                                                    \n",
      "2018-07-30    1950.0   1.0  0.0   0.0     0.0  76.430252\n",
      "2018-07-31    2600.0   0.0  0.0   0.0     0.0  76.657048\n",
      "2018-08-01    2500.0   1.0  0.0   0.0     0.0  76.657048\n",
      "2018-08-02    1850.0   1.0  0.0   1.0     0.0  75.523068\n",
      "2018-08-03    2900.0   1.0  0.0   0.0     0.0  75.919961\n",
      "            calories  walk  run  wine  weight         kg\n",
      "Date                                                    \n",
      "2018-12-15    5750.0   0.0  0.0   0.0     0.0  75.296272\n",
      "2018-12-16    2950.0   1.0  1.0   0.0     0.0  75.296272\n",
      "2018-12-17    1950.0   1.0  0.0   0.0     0.0  74.615884\n",
      "2018-12-18    1900.0   1.0  0.0   0.0     0.0  74.502486\n",
      "2018-12-19    1500.0   1.0  0.0   1.0     0.0  73.652001\n"
     ]
    }
   ],
   "source": [
    "print(data.head())\n",
    "data.info()\n",
    "\n",
    "#convert to datetime\n",
    "data['Date'] = pd.to_datetime(data['Date'], format='%m/%d/%Y')\n",
    "data.set_index('Date', inplace=True)\n",
    "print(data.head())\n",
    "\n",
    "# converting ounces to kilogram which is a more popular measurement for countries outsides of U.S.\n",
    "conversion_factor = 0.0283495\n",
    "\n",
    "data[\"kg\"] = data[\"weight_oz\"]*conversion_factor\n",
    "\n",
    "# dropping the features with existing information to avoid multicolinearity, \n",
    "# \"cals_per_oz\" and \"prot\" are dropped as not provided in the API\n",
    "data_clean = data.drop([\"Stone\", \"Pounds\", \"Ounces\", \"five_donuts\", \n",
    "                        \"weight_oz\", \"cals_per_oz\", \"prot\", \"change\"], axis=1)\n",
    "print(data_clean.head())\n",
    "print(data_clean.info())\n",
    "print(data_clean.tail(10))\n",
    "\n",
    "#shifting the \"kg\" column up because this result is measured before exercising, \n",
    "# but it is only useful at the day end to see the result\n",
    "\n",
    "data_clean['kg'] = data_clean['kg'].shift(-1)\n",
    "\n",
    "# Remove the last 8 rows of the DataFrame because they are pure NaN\n",
    "data_clean = data_clean[:-8]\n",
    "print(data_clean.head())\n",
    "print(data_clean.tail())"
   ]
  },
  {
   "cell_type": "markdown",
   "metadata": {},
   "source": [
    "### KNN Imputer"
   ]
  },
  {
   "cell_type": "code",
   "execution_count": 32,
   "metadata": {},
   "outputs": [
    {
     "name": "stdout",
     "output_type": "stream",
     "text": [
      "(129, 6)\n",
      "(7, 6)\n",
      "Missing values in the DataFrame: 0\n"
     ]
    }
   ],
   "source": [
    "# using two weeks for test data, since the dataset at hand is really small\n",
    "# too out the last week as anomalie, as a huge dip is observed, maybe the recorder feels motivated than ever as Christmas approaches\n",
    "data_train = data_clean[data_clean.index < \"2018-12-06\"]\n",
    "data_test = data_clean[(data_clean.index >= \"2018-12-06\") & (data_clean.index <= \"2018-12-12\")]\n",
    "print(data_train['kg'].mean())\n",
    "\n",
    "# KNN imputer to give values to the NaN\n",
    "imputer = KNNImputer(n_neighbors=5, weights='uniform')\n",
    "imputed_train_1 = imputer.fit_transform(data_train)\n",
    "imputed_train = pd.DataFrame(imputed_train_1, index=data_train.index, columns=data_train.columns)\n",
    "print(imputed_train.shape)\n",
    "\n",
    "imputed_test_1 = imputer.fit_transform(data_test)\n",
    "imputed_test = pd.DataFrame(imputed_test_1, index=data_test.index, columns=data_test.columns)\n",
    "print(imputed_test.shape)\n",
    "\n",
    "missing_values = imputed_train.isnull().sum().sum()\n",
    "print(\"Missing values in the DataFrame:\", missing_values)\n",
    "\n"
   ]
  },
  {
   "cell_type": "markdown",
   "metadata": {},
   "source": [
    "### XGBoost"
   ]
  },
  {
   "cell_type": "code",
   "execution_count": 33,
   "metadata": {},
   "outputs": [
    {
     "name": "stdout",
     "output_type": "stream",
     "text": [
      "Mean Squared Error: 0.18091060891153982\n"
     ]
    },
    {
     "ename": "OSError",
     "evalue": "[Errno 30] Read-only file system: 'model_xgb.pkl'",
     "output_type": "error",
     "traceback": [
      "\u001b[0;31m---------------------------------------------------------------------------\u001b[0m",
      "\u001b[0;31mOSError\u001b[0m                                   Traceback (most recent call last)",
      "\u001b[1;32m/calvinkochunisg/HSG-CS-Project/Data/parse.ipynb Cell 17\u001b[0m line \u001b[0;36m1\n\u001b[1;32m     <a href='vscode-notebook-cell://github%2B7b2276223a312c22726566223a7b2274797065223a342c226964223a22646576227d7d/calvinkochunisg/HSG-CS-Project/Data/parse.ipynb#X13sdnNjb2RlLXZmcw%3D%3D?line=12'>13</a>\u001b[0m mse \u001b[39m=\u001b[39m mean_squared_error(y_test, y_pred)\n\u001b[1;32m     <a href='vscode-notebook-cell://github%2B7b2276223a312c22726566223a7b2274797065223a342c226964223a22646576227d7d/calvinkochunisg/HSG-CS-Project/Data/parse.ipynb#X13sdnNjb2RlLXZmcw%3D%3D?line=13'>14</a>\u001b[0m \u001b[39mprint\u001b[39m(\u001b[39mf\u001b[39m\u001b[39m\"\u001b[39m\u001b[39mMean Squared Error: \u001b[39m\u001b[39m{\u001b[39;00mmse\u001b[39m}\u001b[39;00m\u001b[39m\"\u001b[39m)\n\u001b[0;32m---> <a href='vscode-notebook-cell://github%2B7b2276223a312c22726566223a7b2274797065223a342c226964223a22646576227d7d/calvinkochunisg/HSG-CS-Project/Data/parse.ipynb#X13sdnNjb2RlLXZmcw%3D%3D?line=15'>16</a>\u001b[0m \u001b[39mwith\u001b[39;00m \u001b[39mopen\u001b[39;49m(\u001b[39m'\u001b[39;49m\u001b[39mmodel_xgb.pkl\u001b[39;49m\u001b[39m'\u001b[39;49m, \u001b[39m'\u001b[39;49m\u001b[39mwb\u001b[39;49m\u001b[39m'\u001b[39;49m) \u001b[39mas\u001b[39;00m file:\n\u001b[1;32m     <a href='vscode-notebook-cell://github%2B7b2276223a312c22726566223a7b2274797065223a342c226964223a22646576227d7d/calvinkochunisg/HSG-CS-Project/Data/parse.ipynb#X13sdnNjb2RlLXZmcw%3D%3D?line=16'>17</a>\u001b[0m     pickle\u001b[39m.\u001b[39mdump(model_xgb, file)\n",
      "File \u001b[0;32m/Library/Frameworks/Python.framework/Versions/3.12/lib/python3.12/site-packages/IPython/core/interactiveshell.py:308\u001b[0m, in \u001b[0;36m_modified_open\u001b[0;34m(file, *args, **kwargs)\u001b[0m\n\u001b[1;32m    301\u001b[0m \u001b[39mif\u001b[39;00m file \u001b[39min\u001b[39;00m {\u001b[39m0\u001b[39m, \u001b[39m1\u001b[39m, \u001b[39m2\u001b[39m}:\n\u001b[1;32m    302\u001b[0m     \u001b[39mraise\u001b[39;00m \u001b[39mValueError\u001b[39;00m(\n\u001b[1;32m    303\u001b[0m         \u001b[39mf\u001b[39m\u001b[39m\"\u001b[39m\u001b[39mIPython won\u001b[39m\u001b[39m'\u001b[39m\u001b[39mt let you open fd=\u001b[39m\u001b[39m{\u001b[39;00mfile\u001b[39m}\u001b[39;00m\u001b[39m by default \u001b[39m\u001b[39m\"\u001b[39m\n\u001b[1;32m    304\u001b[0m         \u001b[39m\"\u001b[39m\u001b[39mas it is likely to crash IPython. If you know what you are doing, \u001b[39m\u001b[39m\"\u001b[39m\n\u001b[1;32m    305\u001b[0m         \u001b[39m\"\u001b[39m\u001b[39myou can use builtins\u001b[39m\u001b[39m'\u001b[39m\u001b[39m open.\u001b[39m\u001b[39m\"\u001b[39m\n\u001b[1;32m    306\u001b[0m     )\n\u001b[0;32m--> 308\u001b[0m \u001b[39mreturn\u001b[39;00m io_open(file, \u001b[39m*\u001b[39;49margs, \u001b[39m*\u001b[39;49m\u001b[39m*\u001b[39;49mkwargs)\n",
      "\u001b[0;31mOSError\u001b[0m: [Errno 30] Read-only file system: 'model_xgb.pkl'"
     ]
    }
   ],
   "source": [
    "# Splitting the data into features and target\n",
    "X_train = imputed_train.drop(\"kg\", axis=1)\n",
    "y_train = imputed_train[\"kg\"]\n",
    "X_test = imputed_test.drop(\"kg\", axis=1)\n",
    "y_test = imputed_test[\"kg\"]\n",
    "\n",
    "# Initialize and train the XGBoost model\n",
    "model_xgb = xgb.XGBRegressor(objective ='reg:squarederror', n_estimators=100, seed=42)\n",
    "model_xgb.fit(X_train, y_train)\n",
    "\n",
    "# Predictions and Evaluation\n",
    "y_pred = model_xgb.predict(X_test)\n",
    "mse = mean_squared_error(y_test, y_pred)\n",
    "print(f\"Mean Squared Error: {mse}\")"
   ]
  },
  {
   "cell_type": "markdown",
   "metadata": {},
   "source": [
    "### Save the model"
   ]
  },
  {
   "cell_type": "code",
   "execution_count": 38,
   "metadata": {},
   "outputs": [
    {
     "name": "stdout",
     "output_type": "stream",
     "text": [
      "Model saved successfully at /Users/shinanchen/Desktop/model.sav\n"
     ]
    }
   ],
   "source": [
    "import pickle\n",
    "import os\n",
    "\n",
    "path = \"/Users/shinanchen/Desktop/\"  # Make sure there's a trailing slash\n",
    "filename = 'model.sav'\n",
    "full_path = os.path.join(path, filename)  # Use os.path.join to avoid such errors\n",
    "\n",
    "# Save the model\n",
    "with open(full_path, 'wb') as file:\n",
    "    pickle.dump(model_xgb, file)\n",
    "\n",
    "print(f\"Model saved successfully at {full_path}\")\n"
   ]
  },
  {
   "cell_type": "markdown",
   "metadata": {},
   "source": [
    "# User Prediction"
   ]
  },
  {
   "cell_type": "code",
   "execution_count": 16,
   "metadata": {},
   "outputs": [
    {
     "name": "stdout",
     "output_type": "stream",
     "text": [
      "Prediction: [76.44584 75.80563 76.16637 76.57181 75.63567 76.16637 76.15508]\n"
     ]
    }
   ],
   "source": [
    "import requests\n",
    "import pickle\n",
    "from io import BytesIO\n",
    "\n",
    "# Correct URL to the raw file on GitHub (make sure to replace it with your actual raw URL)\n",
    "url = \"https://github.com/calvinkochunisg/HSG-CS-Project/raw/dev/Data/model.sav\"\n",
    "\n",
    "# Download the file\n",
    "response = requests.get(url)\n",
    "if response.status_code == 200:\n",
    "    # Load the model from the downloaded bytes\n",
    "    model_data = BytesIO(response.content)\n",
    "    loaded_model = pickle.load(model_data)\n",
    "\n",
    "    # Assuming 'user_data' is defined and appropriate for model prediction\n",
    "    prediction = loaded_model.predict(user_data)\n",
    "    print(\"Prediction:\", prediction)\n",
    "else:\n",
    "    print(\"Failed to download the file. Status code:\", response.status_code)\n"
   ]
  },
  {
   "cell_type": "code",
   "execution_count": 49,
   "metadata": {},
   "outputs": [
    {
     "data": {
      "image/png": "[encoded data removed]",
      "text/plain": [
       "<Figure size 640x480 with 1 Axes>"
      ]
     },
     "metadata": {},
     "output_type": "display_data"
    }
   ],
   "source": [
    "#cal\n",
    "#Sample\n",
    "url_user = \"https://api.spoonacular.com/mealplanner/generate?apiKey=4deaceca7a6448ba9d2006710177aad3&timeframe=week&diet=vegetarian\"\n",
    "user_input1 = [\"tue\", \"thu\", \"sun\"] #walk\n",
    "user_input2 = [\"mon\", \"thu\", \"sun\"] #run\n",
    "user_input3  = [\"tue\", \"wed\", \"sat\"] #wine\n",
    "user_input4  = [\"tue\", \"fri\", \"sun\"] #weight\n",
    "user_weight = 65\n",
    "\n",
    "import matplotlib.pyplot as plt\n",
    "from mpl_toolkits.axes_grid1 import host_subplot\n",
    "\n",
    "def pred(url_user, user_input1, user_input2, user_input3, user_input4, weight):\n",
    "    url = \"https://github.com/calvinkochunisg/HSG-CS-Project/raw/dev/Data/model.sav\"\n",
    "    user_data = convert(url_user, list_date, list_date2, list_date3, list_date4)\n",
    "    weight_diff = 76.253 - weight\n",
    "    \n",
    "    response = requests.get(url)\n",
    "    if response.status_code == 200:\n",
    "        model_data = BytesIO(response.content)\n",
    "        loaded_model = pickle.load(model_data)\n",
    "        #adjusted weight\n",
    "        prediction = loaded_model.predict(user_data) - weight_diff\n",
    "        pred = pd.DataFrame(prediction, columns=['pred'])\n",
    "        pred.reset_index(drop=True, inplace=True)\n",
    "        pred.index = [\"Mon\", \"Tue\", \"Wed\", \"Thu\", \"Fri\", \"Sat\", \"Sun\"]\n",
    "\n",
    "        host = host_subplot(111)\n",
    "        par = host.twinx()\n",
    "\n",
    "        host.set_xlabel(\"Your Weekday\")\n",
    "        host.set_ylabel(\"Your Body Weight\")\n",
    "        par.set_ylabel(\"Your Calory Intake\")\n",
    "\n",
    "        p1, = host.plot(user_data.index, pred, label=\"KG\")\n",
    "        p2, = par.plot(user_data.index, user_data[\"calories\"], label=\"CAL\")\n",
    "\n",
    "        host.legend(labelcolor=\"linecolor\")\n",
    "\n",
    "        host.yaxis.get_label().set_color(p1.get_color())\n",
    "        par.yaxis.get_label().set_color(p2.get_color())\n",
    "\n",
    "        plt.show()\n",
    "\n",
    "    else:\n",
    "        print(\"Failed to download the file. Status code:\", response.status_code)\n",
    "\n",
    "    return host \n",
    "\n",
    "prediction = pred(url_user, user_input1, user_input2, user_input3, user_input4,67)\n"
   ]
  }
 ],
 "metadata": {
  "kernelspec": {
   "display_name": "Python 3",
   "language": "python",
   "name": "python3"
  },
  "language_info": {
   "codemirror_mode": {
    "name": "ipython",
    "version": 3
   },
   "file_extension": ".py",
   "mimetype": "text/x-python",
   "name": "python",
   "nbconvert_exporter": "python",
   "pygments_lexer": "ipython3",
   "version": "3.12.0"
  }
 },
 "nbformat": 4,
 "nbformat_minor": 2
}
